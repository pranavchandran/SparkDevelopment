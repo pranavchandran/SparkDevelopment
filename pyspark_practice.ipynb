{
  "nbformat": 4,
  "nbformat_minor": 0,
  "metadata": {
    "colab": {
      "provenance": [],
      "toc_visible": true,
      "mount_file_id": "13gqVnxUCxVNnXroDiCD1JyjKXdRVvif7",
      "authorship_tag": "ABX9TyMaPqv7bull/X8gl+Ja+DI/",
      "include_colab_link": true
    },
    "kernelspec": {
      "name": "python3",
      "display_name": "Python 3"
    },
    "language_info": {
      "name": "python"
    }
  },
  "cells": [
    {
      "cell_type": "markdown",
      "metadata": {
        "id": "view-in-github",
        "colab_type": "text"
      },
      "source": [
        "<a href=\"https://colab.research.google.com/github/pranavchandran/SparkDevelopment/blob/main/pyspark_practice.ipynb\" target=\"_parent\"><img src=\"https://colab.research.google.com/assets/colab-badge.svg\" alt=\"Open In Colab\"/></a>"
      ]
    },
    {
      "cell_type": "code",
      "source": [
        "### Github repo\n",
        "# https://github.com/pranavchandran/SparkDevelopment/blob/main/pyspark_practice.ipynb"
      ],
      "metadata": {
        "id": "j8xWVP3IH-vT"
      },
      "execution_count": null,
      "outputs": []
    },
    {
      "cell_type": "code",
      "execution_count": null,
      "metadata": {
        "colab": {
          "base_uri": "https://localhost:8080/"
        },
        "id": "4BY2NzWtrFR7",
        "outputId": "006c3808-5df4-4ea7-cf2c-ebc0918dac20"
      },
      "outputs": [
        {
          "output_type": "stream",
          "name": "stdout",
          "text": [
            "Requirement already satisfied: pyspark in /usr/local/lib/python3.11/dist-packages (3.5.4)\n",
            "Requirement already satisfied: py4j==0.10.9.7 in /usr/local/lib/python3.11/dist-packages (from pyspark) (0.10.9.7)\n"
          ]
        }
      ],
      "source": [
        "!pip install pyspark"
      ]
    },
    {
      "cell_type": "code",
      "source": [
        "from pyspark.sql import SparkSession\n",
        "from pyspark.sql.functions import *"
      ],
      "metadata": {
        "id": "ubGu3ZrSLavB"
      },
      "execution_count": null,
      "outputs": []
    },
    {
      "cell_type": "code",
      "source": [
        "spark = SparkSession.builder \\\n",
        "    .appName(\"GoogleColabPySpark\") \\\n",
        "    .getOrCreate()\n",
        "\n",
        "# Test Spark\n",
        "spark.sparkContext.getConf().getAll()"
      ],
      "metadata": {
        "colab": {
          "base_uri": "https://localhost:8080/"
        },
        "id": "XqR6Cnd6rMHP",
        "outputId": "dba76314-5d48-43b1-ef26-d8ac470acbe6"
      },
      "execution_count": null,
      "outputs": [
        {
          "output_type": "execute_result",
          "data": {
            "text/plain": [
              "[('spark.app.submitTime', '1737701170671'),\n",
              " ('spark.driver.extraJavaOptions',\n",
              "  '-Djava.net.preferIPv6Addresses=false -XX:+IgnoreUnrecognizedVMOptions --add-opens=java.base/java.lang=ALL-UNNAMED --add-opens=java.base/java.lang.invoke=ALL-UNNAMED --add-opens=java.base/java.lang.reflect=ALL-UNNAMED --add-opens=java.base/java.io=ALL-UNNAMED --add-opens=java.base/java.net=ALL-UNNAMED --add-opens=java.base/java.nio=ALL-UNNAMED --add-opens=java.base/java.util=ALL-UNNAMED --add-opens=java.base/java.util.concurrent=ALL-UNNAMED --add-opens=java.base/java.util.concurrent.atomic=ALL-UNNAMED --add-opens=java.base/jdk.internal.ref=ALL-UNNAMED --add-opens=java.base/sun.nio.ch=ALL-UNNAMED --add-opens=java.base/sun.nio.cs=ALL-UNNAMED --add-opens=java.base/sun.security.action=ALL-UNNAMED --add-opens=java.base/sun.util.calendar=ALL-UNNAMED --add-opens=java.security.jgss/sun.security.krb5=ALL-UNNAMED -Djdk.reflect.useDirectMethodHandle=false'),\n",
              " ('spark.driver.port', '38407'),\n",
              " ('spark.executor.id', 'driver'),\n",
              " ('spark.app.id', 'local-1737701173817'),\n",
              " ('spark.app.name', 'GoogleColabPySpark'),\n",
              " ('spark.app.startTime', '1737701171253'),\n",
              " ('spark.rdd.compress', 'True'),\n",
              " ('spark.executor.extraJavaOptions',\n",
              "  '-Djava.net.preferIPv6Addresses=false -XX:+IgnoreUnrecognizedVMOptions --add-opens=java.base/java.lang=ALL-UNNAMED --add-opens=java.base/java.lang.invoke=ALL-UNNAMED --add-opens=java.base/java.lang.reflect=ALL-UNNAMED --add-opens=java.base/java.io=ALL-UNNAMED --add-opens=java.base/java.net=ALL-UNNAMED --add-opens=java.base/java.nio=ALL-UNNAMED --add-opens=java.base/java.util=ALL-UNNAMED --add-opens=java.base/java.util.concurrent=ALL-UNNAMED --add-opens=java.base/java.util.concurrent.atomic=ALL-UNNAMED --add-opens=java.base/jdk.internal.ref=ALL-UNNAMED --add-opens=java.base/sun.nio.ch=ALL-UNNAMED --add-opens=java.base/sun.nio.cs=ALL-UNNAMED --add-opens=java.base/sun.security.action=ALL-UNNAMED --add-opens=java.base/sun.util.calendar=ALL-UNNAMED --add-opens=java.security.jgss/sun.security.krb5=ALL-UNNAMED -Djdk.reflect.useDirectMethodHandle=false'),\n",
              " ('spark.serializer.objectStreamReset', '100'),\n",
              " ('spark.master', 'local[*]'),\n",
              " ('spark.submit.pyFiles', ''),\n",
              " ('spark.submit.deployMode', 'client'),\n",
              " ('spark.driver.host', '00132fb861fd'),\n",
              " ('spark.ui.showConsoleProgress', 'true')]"
            ]
          },
          "metadata": {},
          "execution_count": 3
        }
      ]
    },
    {
      "cell_type": "code",
      "source": [
        "# Create DataFrame\n",
        "data = [(\"Alice\", 25), (\"Bob\", 30), (\"Cathy\", 28)]\n",
        "columns = [\"Name\", \"Age\"]\n",
        "\n",
        "df = spark.createDataFrame(data, columns)\n",
        "\n",
        "# Show DataFrame\n",
        "df.show()"
      ],
      "metadata": {
        "colab": {
          "base_uri": "https://localhost:8080/"
        },
        "id": "L0toPrairrhY",
        "outputId": "287a8b31-8eec-472e-fb9c-51be51ae2754"
      },
      "execution_count": null,
      "outputs": [
        {
          "output_type": "stream",
          "name": "stdout",
          "text": [
            "+-----+---+\n",
            "| Name|Age|\n",
            "+-----+---+\n",
            "|Alice| 25|\n",
            "|  Bob| 30|\n",
            "|Cathy| 28|\n",
            "+-----+---+\n",
            "\n"
          ]
        }
      ]
    },
    {
      "cell_type": "code",
      "source": [
        "# /content/drive/MyDrive/sales.csv"
      ],
      "metadata": {
        "id": "WDDsHy5HsGXg"
      },
      "execution_count": null,
      "outputs": []
    },
    {
      "cell_type": "code",
      "source": [
        "df = spark.read.csv(\"/content/drive/MyDrive/sales.csv\", header=True, inferSchema=True)"
      ],
      "metadata": {
        "id": "_g9WcvH1aroM"
      },
      "execution_count": null,
      "outputs": []
    },
    {
      "cell_type": "code",
      "source": [
        "display(df)"
      ],
      "metadata": {
        "colab": {
          "base_uri": "https://localhost:8080/",
          "height": 69
        },
        "id": "PSlc68NHdMqQ",
        "outputId": "da5a6fb8-85e2-429d-f0fc-8b1554798646"
      },
      "execution_count": null,
      "outputs": [
        {
          "output_type": "display_data",
          "data": {
            "text/plain": [
              "DataFrame[Invoice ID: int, Date: string, Time: timestamp, Gender: string, Location: string, City: string, Member: string, Category: string, Price: int, Quantity: int, Total: int, Payment: string, Rating: int]"
            ]
          },
          "metadata": {}
        }
      ]
    },
    {
      "cell_type": "code",
      "source": [
        "df.show()"
      ],
      "metadata": {
        "colab": {
          "base_uri": "https://localhost:8080/"
        },
        "id": "bYqePFj0dPze",
        "outputId": "7113666f-0f01-498c-a607-1294b2766401"
      },
      "execution_count": null,
      "outputs": [
        {
          "output_type": "stream",
          "name": "stdout",
          "text": [
            "+----------+---------+-------------------+------+-----------+-------+------+---------+-----+--------+-----+-------+------+\n",
            "|Invoice ID|     Date|               Time|Gender|   Location|   City|Member| Category|Price|Quantity|Total|Payment|Rating|\n",
            "+----------+---------+-------------------+------+-----------+-------+------+---------+-----+--------+-----+-------+------+\n",
            "| 460489604|1/25/2018|2025-01-24 16:46:00|  Male| Brookfield|NewYork|   Yes|Groceries|   30|       1|   30|   Cash|     2|\n",
            "| 471006167|3/19/2018|2025-01-24 16:48:00|Female|Water tower|Chicago|   Yes|  Fashion|   35|       5|  175|   Card|     3|\n",
            "| 411909258|2/25/2018|2025-01-24 13:33:00|  Male|Water tower|Chicago|    No| Clothing|   57|       2|  114|   Cash|     5|\n",
            "| 487313402|1/22/2018|2025-01-24 13:38:00|Female|  Park lane| Dallas|   Yes| Sporting|   89|       4|  356|   Gpay|     1|\n",
            "| 197763430|2/18/2018|2025-01-24 15:31:00|Female|  Park lane| Dallas|    No|    Books|   82|       5|  410|   Cash|     4|\n",
            "| 263634050| 3/9/2018|2025-01-24 17:55:00|  Male| Brookfield|NewYork|   Yes| Clothing|   52|       4|  208|   Gpay|     3|\n",
            "|  99646662| 3/4/2018|2025-01-24 13:21:00|  Male|Water tower|Chicago|    No| Clothing|   81|       3|  243|   Cash|     4|\n",
            "| 188869875| 3/8/2018|2025-01-24 13:24:00|  Male|  Park lane| Dallas|    No|    Books|   80|       2|  160|   Cash|     3|\n",
            "| 325637547|1/18/2018|2025-01-24 15:33:00|  Male|  Park lane| Dallas|   Yes| Clothing|   91|       3|  273|   Card|     3|\n",
            "| 562942936|2/24/2018|2025-01-24 16:05:00|Female|  Park lane| Dallas|    No|    Books|   80|       2|  160|   Cash|     4|\n",
            "| 388412668|2/26/2018|2025-01-24 11:32:00|Female| Brookfield|NewYork|    No|Furniture|   35|       4|  140|   Gpay|     4|\n",
            "| 846531724|3/15/2018|2025-01-24 12:12:00|  Male|  Park lane| Dallas|    No| Sporting|   22|       5|  110|   Card|     4|\n",
            "| 149894432|1/12/2018|2025-01-24 11:12:00|  Male|  Park lane| Dallas|    No| Clothing|   77|       5|  385|   Cash|     4|\n",
            "| 942406749|1/18/2018|2025-01-24 15:20:00|Female|Water tower|Chicago|   Yes| Clothing|    9|       6|   54|   Gpay|     5|\n",
            "| 547572603|3/21/2018|2025-01-24 13:23:00|Female| Brookfield|NewYork|    No|  Fashion|   98|       7|  686|   Gpay|     3|\n",
            "| 355981315|2/15/2018|2025-01-24 15:47:00|Female| Brookfield|NewYork|   Yes| Clothing|   78|       5|  390|   Card|     5|\n",
            "| 397754805| 2/9/2018|2025-01-24 15:59:00|Female| Brookfield|NewYork|   Yes| Sporting|   35|       7|  245|   Gpay|     1|\n",
            "|  90524319|3/19/2018|2025-01-24 18:18:00|  Male|  Park lane| Dallas|   Yes| Clothing|   23|       1|   23|   Cash|     3|\n",
            "| 542144906| 2/6/2018|2025-01-24 10:58:00|Female| Brookfield|NewYork|   Yes|  Fashion|   33|       5|  165|   Gpay|     2|\n",
            "| 729486362| 3/7/2018|2025-01-24 12:50:00|  Male|Water tower|Chicago|    No|Groceries|   39|       4|  156|   Cash|     3|\n",
            "+----------+---------+-------------------+------+-----------+-------+------+---------+-----+--------+-----+-------+------+\n",
            "only showing top 20 rows\n",
            "\n"
          ]
        }
      ]
    },
    {
      "cell_type": "code",
      "source": [
        "# Mount the drive and read the csv\n",
        "from google.colab import drive\n",
        "drive.mount('/content/drive')"
      ],
      "metadata": {
        "id": "nyPdBFZGdVk-",
        "colab": {
          "base_uri": "https://localhost:8080/"
        },
        "outputId": "c5436942-1d4f-4aa6-bc58-df0006fca827"
      },
      "execution_count": null,
      "outputs": [
        {
          "output_type": "stream",
          "name": "stdout",
          "text": [
            "Drive already mounted at /content/drive; to attempt to forcibly remount, call drive.mount(\"/content/drive\", force_remount=True).\n"
          ]
        }
      ]
    },
    {
      "cell_type": "code",
      "source": [
        "spark = SparkSession.builder \\\n",
        "    .appName(\"GoogleColabPySpark\") \\\n",
        "    .getOrCreate() \\\n",
        "\n",
        "# Test Spark\n",
        "spark.sparkContext.getConf().getAll()"
      ],
      "metadata": {
        "colab": {
          "base_uri": "https://localhost:8080/"
        },
        "id": "6Yv2P-kQXJEa",
        "outputId": "e819277e-1d97-49ed-b279-50e2b8651331"
      },
      "execution_count": null,
      "outputs": [
        {
          "output_type": "execute_result",
          "data": {
            "text/plain": [
              "[('spark.app.submitTime', '1737701170671'),\n",
              " ('spark.driver.extraJavaOptions',\n",
              "  '-Djava.net.preferIPv6Addresses=false -XX:+IgnoreUnrecognizedVMOptions --add-opens=java.base/java.lang=ALL-UNNAMED --add-opens=java.base/java.lang.invoke=ALL-UNNAMED --add-opens=java.base/java.lang.reflect=ALL-UNNAMED --add-opens=java.base/java.io=ALL-UNNAMED --add-opens=java.base/java.net=ALL-UNNAMED --add-opens=java.base/java.nio=ALL-UNNAMED --add-opens=java.base/java.util=ALL-UNNAMED --add-opens=java.base/java.util.concurrent=ALL-UNNAMED --add-opens=java.base/java.util.concurrent.atomic=ALL-UNNAMED --add-opens=java.base/jdk.internal.ref=ALL-UNNAMED --add-opens=java.base/sun.nio.ch=ALL-UNNAMED --add-opens=java.base/sun.nio.cs=ALL-UNNAMED --add-opens=java.base/sun.security.action=ALL-UNNAMED --add-opens=java.base/sun.util.calendar=ALL-UNNAMED --add-opens=java.security.jgss/sun.security.krb5=ALL-UNNAMED -Djdk.reflect.useDirectMethodHandle=false'),\n",
              " ('spark.driver.port', '38407'),\n",
              " ('spark.executor.id', 'driver'),\n",
              " ('spark.app.id', 'local-1737701173817'),\n",
              " ('spark.sql.warehouse.dir', 'file:/content/spark-warehouse'),\n",
              " ('spark.app.name', 'GoogleColabPySpark'),\n",
              " ('spark.app.startTime', '1737701171253'),\n",
              " ('spark.rdd.compress', 'True'),\n",
              " ('spark.executor.extraJavaOptions',\n",
              "  '-Djava.net.preferIPv6Addresses=false -XX:+IgnoreUnrecognizedVMOptions --add-opens=java.base/java.lang=ALL-UNNAMED --add-opens=java.base/java.lang.invoke=ALL-UNNAMED --add-opens=java.base/java.lang.reflect=ALL-UNNAMED --add-opens=java.base/java.io=ALL-UNNAMED --add-opens=java.base/java.net=ALL-UNNAMED --add-opens=java.base/java.nio=ALL-UNNAMED --add-opens=java.base/java.util=ALL-UNNAMED --add-opens=java.base/java.util.concurrent=ALL-UNNAMED --add-opens=java.base/java.util.concurrent.atomic=ALL-UNNAMED --add-opens=java.base/jdk.internal.ref=ALL-UNNAMED --add-opens=java.base/sun.nio.ch=ALL-UNNAMED --add-opens=java.base/sun.nio.cs=ALL-UNNAMED --add-opens=java.base/sun.security.action=ALL-UNNAMED --add-opens=java.base/sun.util.calendar=ALL-UNNAMED --add-opens=java.security.jgss/sun.security.krb5=ALL-UNNAMED -Djdk.reflect.useDirectMethodHandle=false'),\n",
              " ('spark.serializer.objectStreamReset', '100'),\n",
              " ('spark.master', 'local[*]'),\n",
              " ('spark.submit.pyFiles', ''),\n",
              " ('spark.submit.deployMode', 'client'),\n",
              " ('spark.driver.host', '00132fb861fd'),\n",
              " ('spark.ui.showConsoleProgress', 'true')]"
            ]
          },
          "metadata": {},
          "execution_count": 10
        }
      ]
    },
    {
      "cell_type": "code",
      "source": [
        "# location is in Data/Fire_Department_Calls_for_Service.csv\n",
        "df = spark.read.csv(\"/content/drive/MyDrive/Data/Fire_Department_Calls_for_Service.csv\",\n",
        "                    header=True,\n",
        "                    inferSchema=True)"
      ],
      "metadata": {
        "id": "3o2BrPzTKgRZ"
      },
      "execution_count": null,
      "outputs": []
    },
    {
      "cell_type": "code",
      "source": [
        "df.show(10)"
      ],
      "metadata": {
        "colab": {
          "base_uri": "https://localhost:8080/"
        },
        "id": "dgg_WaxULWKq",
        "outputId": "a035c9f3-9b8c-4439-c520-bb4f8294bf40"
      },
      "execution_count": null,
      "outputs": [
        {
          "output_type": "stream",
          "name": "stdout",
          "text": [
            "+-----------+-------+---------------+--------------------+----------+----------+--------------------+--------------------+--------------------+--------------------+--------------------+--------------------+--------------------+----------------------+--------------------+--------------------+----+-------------------+---------+------------+----+-----------------+--------+--------------+--------+---------------+----------------+------------+------------------------------+------------------------+-------------------+------------------------------------+--------------------+-------------+\n",
            "|Call Number|Unit ID|Incident Number|           Call Type| Call Date|Watch Date|       Received DtTm|          Entry DtTm|       Dispatch DtTm|       Response DtTm|       On Scene DtTm|      Transport DtTm|       Hospital DtTm|Call Final Disposition|      Available DtTm|             Address|City|Zipcode of Incident|Battalion|Station Area| Box|Original Priority|Priority|Final Priority|ALS Unit|Call Type Group|Number of Alarms|   Unit Type|Unit sequence in call dispatch|Fire Prevention District|Supervisor District|Neighborhooods - Analysis Boundaries|            Location|        RowID|\n",
            "+-----------+-------+---------------+--------------------+----------+----------+--------------------+--------------------+--------------------+--------------------+--------------------+--------------------+--------------------+----------------------+--------------------+--------------------+----+-------------------+---------+------------+----+-----------------+--------+--------------+--------+---------------+----------------+------------+------------------------------+------------------------+-------------------+------------------------------------+--------------------+-------------+\n",
            "|    1030101|    E18|         306091|    Medical Incident|04/12/2000|04/12/2000|04/12/2000 09:00:...|04/12/2000 09:01:...|04/12/2000 09:02:...|                NULL|                NULL|                NULL|                NULL|                 Other|                NULL|2000 Block of 37T...|  SF|              94116|      B08|          18|0757|                3|       3|             3|   false|           NULL|               1|      ENGINE|                             1|                       8|                  4|                     Sunset/Parkside|(37.7487247711275...|001030101-E18|\n",
            "|    1030104|    M14|          30612|    Medical Incident|04/12/2000|04/12/2000|04/12/2000 09:09:...|04/12/2000 09:10:...|04/12/2000 09:10:...|04/12/2000 09:12:...|04/12/2000 09:19:...|04/12/2000 09:43:...|04/12/2000 10:03:...|                 Other|04/12/2000 10:23:...|1700 Block of 43R...|  SF|              94122|      B08|          23|7651|                3|       3|             3|    true|           NULL|               1|       MEDIC|                             2|                       8|                  4|                     Sunset/Parkside|(37.7540326780595...|001030104-M14|\n",
            "|    1030106|    M36|          30614|    Medical Incident|04/12/2000|04/12/2000|04/12/2000 09:09:...|04/12/2000 09:10:...|04/12/2000 09:11:...|                NULL|04/12/2000 09:14:...|04/12/2000 09:59:...|04/12/2000 10:10:...|                 Other|04/12/2000 10:43:...|  0 Block of FELL ST|  SF|              94102|      B02|          36|3111|                3|       3|             3|   false|           NULL|               1|       MEDIC|                             1|                       2|                  6|                          Tenderloin|(37.7764405100838...|001030106-M36|\n",
            "|    1030107|    E01|          30615|              Alarms|04/12/2000|04/12/2000|04/12/2000 09:13:...|04/12/2000 09:13:...|04/12/2000 09:14:...|04/12/2000 09:15:...|04/12/2000 09:20:...|                NULL|                NULL|                 Other|04/12/2000 09:24:...|100 Block of JONE...|  SF|              94102|      B03|          01|1456|                3|       3|             3|   false|           NULL|               1|      ENGINE|                             3|                       3|                  6|                          Tenderloin|(37.7825474000421...|001030107-E01|\n",
            "|    1030108|    RS1|          30616|    Medical Incident|04/12/2000|04/12/2000|04/12/2000 09:14:...|04/12/2000 09:16:...|04/12/2000 09:16:...|04/12/2000 09:18:...|04/12/2000 09:20:...|                NULL|                NULL|                 Other|04/12/2000 09:20:...|700 Block of MARK...|  SF|              94108|      B03|          01|1322|                3|       3|             3|   false|           NULL|               1|RESCUE SQUAD|                             2|                       1|                  3|                Financial Distric...|(37.7863072236365...|001030108-RS1|\n",
            "|    1030112|    T03|          30620|Citizen Assist / ...|04/12/2000|04/12/2000|04/12/2000 09:24:...|04/12/2000 09:24:...|04/12/2000 09:25:...|04/12/2000 09:27:...|04/12/2000 09:30:...|                NULL|                NULL|                 Other|04/12/2000 09:44:...|800 Block of SUTT...|  SF|              94109|      B01|          03|1463|                3|       3|             3|   false|           NULL|               1|       TRUCK|                             1|                       1|                  3|                            Nob Hill|(37.7884388430214...|001030112-T03|\n",
            "|    1030116|    E38|          30624|   Electrical Hazard|04/12/2000|04/12/2000|04/12/2000 09:25:...|04/12/2000 09:28:...|04/12/2000 09:28:...|04/12/2000 09:29:...|04/12/2000 09:31:...|                NULL|                NULL|                 Other|04/12/2000 09:39:...|CALIFORNIA ST/VAN...|  SF|              94109|      B04|          38|3155|                3|       3|             3|   false|           NULL|               1|      ENGINE|                             1|                       4|                  2|                            Nob Hill|(37.7903696585646...|001030116-E38|\n",
            "|    1030117|    E15|          30626|Odor (Strange / U...|04/12/2000|04/12/2000|04/12/2000 09:27:...|04/12/2000 09:28:...|04/12/2000 09:30:...|04/12/2000 09:31:...|04/12/2000 09:34:...|                NULL|                NULL|                 Other|04/12/2000 09:38:...|2100 Block of ALE...|  SF|              94112|      B09|          15|8331|                3|       3|             3|   false|           NULL|               1|      ENGINE|                             1|                       9|                 11|                       Outer Mission|(37.7183153380753...|001030117-E15|\n",
            "|    1030118|    E08|          30625|    Medical Incident|04/12/2000|04/12/2000|04/12/2000 09:27:...|04/12/2000 09:28:...|04/12/2000 09:29:...|04/12/2000 09:31:...|04/12/2000 09:32:...|                NULL|                NULL|                 Other|04/12/2000 09:45:...|   4TH ST/CHANNEL ST|  SF|               NULL|      B03|          08|2226|                3|       3|             3|   false|           NULL|               1|      ENGINE|                             1|                       3|                  6|                                None|(37.7750268633971...|001030118-E08|\n",
            "|    1030119|    M17|          30628|    Medical Incident|04/12/2000|04/12/2000|04/12/2000 09:29:...|04/12/2000 09:30:...|04/12/2000 09:31:...|04/12/2000 09:32:...|04/12/2000 09:37:...|04/12/2000 09:48:...|                NULL|                 Other|04/12/2000 10:31:...|1400 Block of NEW...|  SF|              94124|      B10|          17|6516|                1|       1|             2|    true|           NULL|               1|       MEDIC|                             1|                      10|                 10|                Bayview Hunters P...|(37.7335924152271...|001030119-M17|\n",
            "+-----------+-------+---------------+--------------------+----------+----------+--------------------+--------------------+--------------------+--------------------+--------------------+--------------------+--------------------+----------------------+--------------------+--------------------+----+-------------------+---------+------------+----+-----------------+--------+--------------+--------+---------------+----------------+------------+------------------------------+------------------------+-------------------+------------------------------------+--------------------+-------------+\n",
            "only showing top 10 rows\n",
            "\n"
          ]
        }
      ]
    },
    {
      "cell_type": "code",
      "source": [
        "# pip install ipython-sql"
      ],
      "metadata": {
        "id": "83SFDkLNY5sv"
      },
      "execution_count": null,
      "outputs": []
    },
    {
      "cell_type": "code",
      "source": [
        "%load_ext sql"
      ],
      "metadata": {
        "id": "YnAYujUOY8FG"
      },
      "execution_count": null,
      "outputs": []
    },
    {
      "cell_type": "code",
      "source": [
        "# Covert to a table\n",
        "df.createGlobalTempView(\"fire_service_calls_view\")"
      ],
      "metadata": {
        "id": "T2sc51SxL79E"
      },
      "execution_count": null,
      "outputs": []
    },
    {
      "cell_type": "code",
      "source": [
        "spark.sql(\"SELECT * FROM global_temp.fire_service_calls_view\").show()"
      ],
      "metadata": {
        "colab": {
          "base_uri": "https://localhost:8080/"
        },
        "id": "jQZtofwfYBUJ",
        "outputId": "21e18359-6b51-46fb-dc82-16127777e637"
      },
      "execution_count": null,
      "outputs": [
        {
          "output_type": "stream",
          "name": "stdout",
          "text": [
            "+-----------+-------+---------------+--------------------+----------+----------+--------------------+--------------------+--------------------+--------------------+--------------------+--------------------+--------------------+----------------------+--------------------+--------------------+----+-------------------+---------+------------+----+-----------------+--------+--------------+--------+---------------+----------------+------------+------------------------------+------------------------+-------------------+------------------------------------+--------------------+-------------+\n",
            "|Call Number|Unit ID|Incident Number|           Call Type| Call Date|Watch Date|       Received DtTm|          Entry DtTm|       Dispatch DtTm|       Response DtTm|       On Scene DtTm|      Transport DtTm|       Hospital DtTm|Call Final Disposition|      Available DtTm|             Address|City|Zipcode of Incident|Battalion|Station Area| Box|Original Priority|Priority|Final Priority|ALS Unit|Call Type Group|Number of Alarms|   Unit Type|Unit sequence in call dispatch|Fire Prevention District|Supervisor District|Neighborhooods - Analysis Boundaries|            Location|        RowID|\n",
            "+-----------+-------+---------------+--------------------+----------+----------+--------------------+--------------------+--------------------+--------------------+--------------------+--------------------+--------------------+----------------------+--------------------+--------------------+----+-------------------+---------+------------+----+-----------------+--------+--------------+--------+---------------+----------------+------------+------------------------------+------------------------+-------------------+------------------------------------+--------------------+-------------+\n",
            "|    1030101|    E18|         306091|    Medical Incident|04/12/2000|04/12/2000|04/12/2000 09:00:...|04/12/2000 09:01:...|04/12/2000 09:02:...|                NULL|                NULL|                NULL|                NULL|                 Other|                NULL|2000 Block of 37T...|  SF|              94116|      B08|          18|0757|                3|       3|             3|   false|           NULL|               1|      ENGINE|                             1|                       8|                  4|                     Sunset/Parkside|(37.7487247711275...|001030101-E18|\n",
            "|    1030104|    M14|          30612|    Medical Incident|04/12/2000|04/12/2000|04/12/2000 09:09:...|04/12/2000 09:10:...|04/12/2000 09:10:...|04/12/2000 09:12:...|04/12/2000 09:19:...|04/12/2000 09:43:...|04/12/2000 10:03:...|                 Other|04/12/2000 10:23:...|1700 Block of 43R...|  SF|              94122|      B08|          23|7651|                3|       3|             3|    true|           NULL|               1|       MEDIC|                             2|                       8|                  4|                     Sunset/Parkside|(37.7540326780595...|001030104-M14|\n",
            "|    1030106|    M36|          30614|    Medical Incident|04/12/2000|04/12/2000|04/12/2000 09:09:...|04/12/2000 09:10:...|04/12/2000 09:11:...|                NULL|04/12/2000 09:14:...|04/12/2000 09:59:...|04/12/2000 10:10:...|                 Other|04/12/2000 10:43:...|  0 Block of FELL ST|  SF|              94102|      B02|          36|3111|                3|       3|             3|   false|           NULL|               1|       MEDIC|                             1|                       2|                  6|                          Tenderloin|(37.7764405100838...|001030106-M36|\n",
            "|    1030107|    E01|          30615|              Alarms|04/12/2000|04/12/2000|04/12/2000 09:13:...|04/12/2000 09:13:...|04/12/2000 09:14:...|04/12/2000 09:15:...|04/12/2000 09:20:...|                NULL|                NULL|                 Other|04/12/2000 09:24:...|100 Block of JONE...|  SF|              94102|      B03|          01|1456|                3|       3|             3|   false|           NULL|               1|      ENGINE|                             3|                       3|                  6|                          Tenderloin|(37.7825474000421...|001030107-E01|\n",
            "|    1030108|    RS1|          30616|    Medical Incident|04/12/2000|04/12/2000|04/12/2000 09:14:...|04/12/2000 09:16:...|04/12/2000 09:16:...|04/12/2000 09:18:...|04/12/2000 09:20:...|                NULL|                NULL|                 Other|04/12/2000 09:20:...|700 Block of MARK...|  SF|              94108|      B03|          01|1322|                3|       3|             3|   false|           NULL|               1|RESCUE SQUAD|                             2|                       1|                  3|                Financial Distric...|(37.7863072236365...|001030108-RS1|\n",
            "|    1030112|    T03|          30620|Citizen Assist / ...|04/12/2000|04/12/2000|04/12/2000 09:24:...|04/12/2000 09:24:...|04/12/2000 09:25:...|04/12/2000 09:27:...|04/12/2000 09:30:...|                NULL|                NULL|                 Other|04/12/2000 09:44:...|800 Block of SUTT...|  SF|              94109|      B01|          03|1463|                3|       3|             3|   false|           NULL|               1|       TRUCK|                             1|                       1|                  3|                            Nob Hill|(37.7884388430214...|001030112-T03|\n",
            "|    1030116|    E38|          30624|   Electrical Hazard|04/12/2000|04/12/2000|04/12/2000 09:25:...|04/12/2000 09:28:...|04/12/2000 09:28:...|04/12/2000 09:29:...|04/12/2000 09:31:...|                NULL|                NULL|                 Other|04/12/2000 09:39:...|CALIFORNIA ST/VAN...|  SF|              94109|      B04|          38|3155|                3|       3|             3|   false|           NULL|               1|      ENGINE|                             1|                       4|                  2|                            Nob Hill|(37.7903696585646...|001030116-E38|\n",
            "|    1030117|    E15|          30626|Odor (Strange / U...|04/12/2000|04/12/2000|04/12/2000 09:27:...|04/12/2000 09:28:...|04/12/2000 09:30:...|04/12/2000 09:31:...|04/12/2000 09:34:...|                NULL|                NULL|                 Other|04/12/2000 09:38:...|2100 Block of ALE...|  SF|              94112|      B09|          15|8331|                3|       3|             3|   false|           NULL|               1|      ENGINE|                             1|                       9|                 11|                       Outer Mission|(37.7183153380753...|001030117-E15|\n",
            "|    1030118|    E08|          30625|    Medical Incident|04/12/2000|04/12/2000|04/12/2000 09:27:...|04/12/2000 09:28:...|04/12/2000 09:29:...|04/12/2000 09:31:...|04/12/2000 09:32:...|                NULL|                NULL|                 Other|04/12/2000 09:45:...|   4TH ST/CHANNEL ST|  SF|               NULL|      B03|          08|2226|                3|       3|             3|   false|           NULL|               1|      ENGINE|                             1|                       3|                  6|                                None|(37.7750268633971...|001030118-E08|\n",
            "|    1030119|    M17|          30628|    Medical Incident|04/12/2000|04/12/2000|04/12/2000 09:29:...|04/12/2000 09:30:...|04/12/2000 09:31:...|04/12/2000 09:32:...|04/12/2000 09:37:...|04/12/2000 09:48:...|                NULL|                 Other|04/12/2000 10:31:...|1400 Block of NEW...|  SF|              94124|      B10|          17|6516|                1|       1|             2|    true|           NULL|               1|       MEDIC|                             1|                      10|                 10|                Bayview Hunters P...|(37.7335924152271...|001030119-M17|\n",
            "|    1030120|    E13|          30627|              Alarms|04/12/2000|04/12/2000|04/12/2000 09:30:...|04/12/2000 09:30:...|04/12/2000 09:31:...|04/12/2000 09:34:...|04/12/2000 09:34:...|                NULL|                NULL|                 Other|04/12/2000 09:50:...|500 Block of COMM...|  SF|              94111|      B01|          13|1166|                3|       3|             3|   false|           NULL|               1|      ENGINE|                             1|                       1|                  3|                           Chinatown|(37.7942116655012...|001030120-E13|\n",
            "|    1030122|    M18|          30630|    Medical Incident|04/12/2000|04/12/2000|04/12/2000 09:31:...|04/12/2000 09:33:...|04/12/2000 09:34:...|04/12/2000 09:35:...|04/12/2000 09:45:...|                NULL|                NULL|                 Other|04/12/2000 09:49:...|1800 Block of IRV...|  SF|              94122|      B08|          22|7424|                1|       1|             2|   false|           NULL|               1|       MEDIC|                             1|                       8|                  4|                     Sunset/Parkside|(37.763482287794,...|001030122-M18|\n",
            "|    1030124|    M09|          30633|    Medical Incident|04/12/2000|04/12/2000|04/12/2000 09:41:...|04/12/2000 09:41:...|04/12/2000 09:43:...|04/12/2000 09:46:...|04/12/2000 09:52:...|                NULL|                NULL|                 Other|04/12/2000 10:00:...| 21ST ST/SHOTWELL ST|  SF|              94110|      B06|          07|5455|                1|       1|             2|    true|           NULL|               1|       MEDIC|                             1|                       6|                  9|                             Mission|(37.7572324112144...|001030124-M09|\n",
            "|    1030127|    E08|          30635|    Medical Incident|04/12/2000|04/12/2000|04/12/2000 09:46:...|04/12/2000 09:46:...|04/12/2000 09:46:...|                NULL|                NULL|                NULL|                NULL|                 Other|04/12/2000 09:48:...|      4TH ST/KING ST|  SF|              94107|      B03|          08|2236|                3|       3|             3|   false|           NULL|               1|      ENGINE|                             1|                       3|                  6|                         Mission Bay|(37.7763329756243...|001030127-E08|\n",
            "|    1030128|    E05|          30636|              Alarms|04/12/2000|04/12/2000|04/12/2000 09:45:...|04/12/2000 09:46:...|04/12/2000 09:46:...|04/12/2000 09:48:...|04/12/2000 09:49:...|                NULL|                NULL|                 Other|04/12/2000 10:19:...|1400 Block of STE...|  SF|              94115|      B04|          05|3623|                3|       3|             3|   false|           NULL|               1|      ENGINE|                             1|                       5|                  5|                    Western Addition|(37.7826256736324...|001030128-E05|\n",
            "|    1030128|    T06|          30636|              Alarms|04/12/2000|04/12/2000|04/12/2000 09:45:...|04/12/2000 09:46:...|04/12/2000 09:46:...|04/12/2000 09:47:...|04/12/2000 09:50:...|                NULL|                NULL|                 Other|04/12/2000 10:17:...|1400 Block of STE...|  SF|              94115|      B04|          05|3623|                3|       3|             3|   false|           NULL|               1|       TRUCK|                             2|                       5|                  5|                    Western Addition|(37.7826256736324...|001030128-T06|\n",
            "|    1030130|    M18|          30638|    Medical Incident|04/12/2000|04/12/2000|04/12/2000 09:49:...|04/12/2000 09:50:...|04/12/2000 09:50:...|04/12/2000 09:57:...|04/12/2000 10:02:...|                NULL|                NULL|                 Other|04/12/2000 10:08:...|3000 Block of VIC...|  SF|              94116|      B08|          18|7637|                2|       2|             2|   false|           NULL|               1|       MEDIC|                             1|                       8|                  4|                     Sunset/Parkside|(37.7383172638778...|001030130-M18|\n",
            "|    1030132|    E39|          30639|               Other|04/12/2000|04/12/2000|04/12/2000 09:53:...|04/12/2000 09:54:...|04/12/2000 09:54:...|                NULL|04/12/2000 10:05:...|                NULL|                NULL|                 Other|04/12/2000 10:22:...|500 Block of TERE...|  SF|              94127|      B08|          39|8645|                3|       3|             3|   false|           NULL|               1|      ENGINE|                             1|                       9|                  7|                  West of Twin Peaks|(37.738002083532,...|001030132-E39|\n",
            "|    1030135|    M10|          30642|    Medical Incident|04/12/2000|04/12/2000|04/12/2000 09:57:...|04/12/2000 09:59:...|04/12/2000 09:59:...|04/12/2000 10:00:...|04/12/2000 10:05:...|                NULL|                NULL|                 Other|04/12/2000 11:16:...|2600 Block of TUR...|  SF|              94118|      B05|          21|4564|                3|       3|             3|   false|           NULL|               1|       MEDIC|                             1|                       5|                  1|                   Lone Mountain/USF|(37.7781665631084...|001030135-M10|\n",
            "|    1030136|    E33|          30644|      Structure Fire|04/12/2000|04/12/2000|04/12/2000 10:04:...|04/12/2000 10:04:...|04/12/2000 10:04:...|04/12/2000 10:06:...|04/12/2000 10:08:...|                NULL|                NULL|                 Other|04/12/2000 10:10:...| BROAD ST/CAPITOL AV|  SF|              94112|      B09|          33|8374|                3|       3|             3|   false|           NULL|               1|      ENGINE|                             1|                       9|                 11|                Oceanview/Merced/...|(37.7131720494385...|001030136-E33|\n",
            "+-----------+-------+---------------+--------------------+----------+----------+--------------------+--------------------+--------------------+--------------------+--------------------+--------------------+--------------------+----------------------+--------------------+--------------------+----+-------------------+---------+------------+----+-----------------+--------+--------------+--------+---------------+----------------+------------+------------------------------+------------------------+-------------------+------------------------------------+--------------------+-------------+\n",
            "only showing top 20 rows\n",
            "\n"
          ]
        }
      ]
    },
    {
      "cell_type": "code",
      "source": [
        "# it will work with only databricks cluster\n",
        "# create database if not exists demo_db"
      ],
      "metadata": {
        "id": "JVkLNuW1Z-Ua"
      },
      "execution_count": null,
      "outputs": []
    },
    {
      "cell_type": "code",
      "source": [
        "# column names in the table\n",
        "df.columns"
      ],
      "metadata": {
        "colab": {
          "base_uri": "https://localhost:8080/"
        },
        "id": "IdwwaqDQiZ3Y",
        "outputId": "91bc0794-6346-4459-920d-388a745bc7d9"
      },
      "execution_count": null,
      "outputs": [
        {
          "output_type": "execute_result",
          "data": {
            "text/plain": [
              "['Call Number',\n",
              " 'Unit ID',\n",
              " 'Incident Number',\n",
              " 'Call Type',\n",
              " 'Call Date',\n",
              " 'Watch Date',\n",
              " 'Received DtTm',\n",
              " 'Entry DtTm',\n",
              " 'Dispatch DtTm',\n",
              " 'Response DtTm',\n",
              " 'On Scene DtTm',\n",
              " 'Transport DtTm',\n",
              " 'Hospital DtTm',\n",
              " 'Call Final Disposition',\n",
              " 'Available DtTm',\n",
              " 'Address',\n",
              " 'City',\n",
              " 'Zipcode of Incident',\n",
              " 'Battalion',\n",
              " 'Station Area',\n",
              " 'Box',\n",
              " 'Original Priority',\n",
              " 'Priority',\n",
              " 'Final Priority',\n",
              " 'ALS Unit',\n",
              " 'Call Type Group',\n",
              " 'Number of Alarms',\n",
              " 'Unit Type',\n",
              " 'Unit sequence in call dispatch',\n",
              " 'Fire Prevention District',\n",
              " 'Supervisor District',\n",
              " 'Neighborhooods - Analysis Boundaries',\n",
              " 'Location',\n",
              " 'RowID']"
            ]
          },
          "metadata": {},
          "execution_count": 18
        }
      ]
    },
    {
      "cell_type": "code",
      "source": [
        "# find the last row by sqk\n",
        "spark.sql(\"SELECT * FROM global_temp.fire_service_calls_view ORDER BY `Call Date` DESC LIMIT 1\").show()"
      ],
      "metadata": {
        "colab": {
          "base_uri": "https://localhost:8080/"
        },
        "id": "Ita1XD4chtaW",
        "outputId": "3011fafa-2049-425f-da23-1b05ca7751af"
      },
      "execution_count": null,
      "outputs": [
        {
          "output_type": "stream",
          "name": "stdout",
          "text": [
            "+-----------+-------+---------------+--------------+----------+----------+--------------------+--------------------+--------------------+--------------------+-------------+--------------+-------------+----------------------+--------------------+--------------------+-------------+-------------------+---------+------------+----+-----------------+--------+--------------+--------+---------------+----------------+---------+------------------------------+------------------------+-------------------+------------------------------------+--------------------+-------------+\n",
            "|Call Number|Unit ID|Incident Number|     Call Type| Call Date|Watch Date|       Received DtTm|          Entry DtTm|       Dispatch DtTm|       Response DtTm|On Scene DtTm|Transport DtTm|Hospital DtTm|Call Final Disposition|      Available DtTm|             Address|         City|Zipcode of Incident|Battalion|Station Area| Box|Original Priority|Priority|Final Priority|ALS Unit|Call Type Group|Number of Alarms|Unit Type|Unit sequence in call dispatch|Fire Prevention District|Supervisor District|Neighborhooods - Analysis Boundaries|            Location|        RowID|\n",
            "+-----------+-------+---------------+--------------+----------+----------+--------------------+--------------------+--------------------+--------------------+-------------+--------------+-------------+----------------------+--------------------+--------------------+-------------+-------------------+---------+------------+----+-----------------+--------+--------------+--------+---------------+----------------+---------+------------------------------+------------------------+-------------------+------------------------------------+--------------------+-------------+\n",
            "|  173651371|    E03|       17152888|Structure Fire|12/31/2017|12/31/2017|12/31/2017 12:05:...|12/31/2017 12:05:...|12/31/2017 12:06:...|12/31/2017 12:08:...|         NULL|          NULL|         NULL|                  Fire|12/31/2017 12:09:...|400 Block of MASO...|San Francisco|              94102|      B01|          03|1411|                3|       3|             3|    true|          Alarm|               1|   ENGINE|                             2|                       1|                  3|                          Tenderloin|(37.787297919885,...|173651371-E03|\n",
            "+-----------+-------+---------------+--------------+----------+----------+--------------------+--------------------+--------------------+--------------------+-------------+--------------+-------------+----------------------+--------------------+--------------------+-------------+-------------------+---------+------------+----+-----------------+--------+--------------+--------+---------------+----------------+---------+------------------------------+------------------------+-------------------+------------------------------------+--------------------+-------------+\n",
            "\n"
          ]
        }
      ]
    },
    {
      "cell_type": "code",
      "source": [
        "spark.sql(\"SELECT Count(*) FROM global_temp.fire_service_calls_view\").show()"
      ],
      "metadata": {
        "id": "073Bi8C6iBa5",
        "colab": {
          "base_uri": "https://localhost:8080/"
        },
        "outputId": "30fde5f8-be9a-4826-8256-798de16d42d6"
      },
      "execution_count": null,
      "outputs": [
        {
          "output_type": "stream",
          "name": "stdout",
          "text": [
            "+--------+\n",
            "|count(1)|\n",
            "+--------+\n",
            "| 4823917|\n",
            "+--------+\n",
            "\n"
          ]
        }
      ]
    },
    {
      "cell_type": "code",
      "source": [
        "spark.sql(\"SELECT Distinct `Unit Type` FROM global_temp.fire_service_calls_view\").show()"
      ],
      "metadata": {
        "colab": {
          "base_uri": "https://localhost:8080/"
        },
        "id": "tGOe2CrgdnNm",
        "outputId": "e52e7e0e-0dc7-4502-feae-28bd4385907f"
      },
      "execution_count": null,
      "outputs": [
        {
          "output_type": "stream",
          "name": "stdout",
          "text": [
            "+--------------+\n",
            "|     Unit Type|\n",
            "+--------------+\n",
            "|       AIRPORT|\n",
            "|         MEDIC|\n",
            "|         CHIEF|\n",
            "|  RESCUE SQUAD|\n",
            "|RESCUE CAPTAIN|\n",
            "|         TRUCK|\n",
            "| INVESTIGATION|\n",
            "|        ENGINE|\n",
            "|       SUPPORT|\n",
            "|       PRIVATE|\n",
            "+--------------+\n",
            "\n"
          ]
        }
      ]
    },
    {
      "cell_type": "code",
      "source": [
        "spark.sql(\"SELECT `Unit Type`, count(`Unit Type`) as Counts \\\n",
        "            FROM global_temp.fire_service_calls_view \\\n",
        "            Group BY `Unit Type` \\\n",
        "            Order by Counts DESC \\\n",
        "            \").show()"
      ],
      "metadata": {
        "colab": {
          "base_uri": "https://localhost:8080/"
        },
        "id": "OWLCUo_zd3Cu",
        "outputId": "cbed4a51-911e-4dc8-9292-93b01002bc59"
      },
      "execution_count": null,
      "outputs": [
        {
          "output_type": "stream",
          "name": "stdout",
          "text": [
            "+--------------+-------+\n",
            "|     Unit Type| Counts|\n",
            "+--------------+-------+\n",
            "|        ENGINE|1856634|\n",
            "|         MEDIC|1491984|\n",
            "|         TRUCK| 521456|\n",
            "|         CHIEF| 355083|\n",
            "|       PRIVATE| 298490|\n",
            "|RESCUE CAPTAIN| 165303|\n",
            "|  RESCUE SQUAD|  87898|\n",
            "|       SUPPORT|  22583|\n",
            "|       AIRPORT|  19335|\n",
            "| INVESTIGATION|   5151|\n",
            "+--------------+-------+\n",
            "\n"
          ]
        }
      ]
    },
    {
      "cell_type": "markdown",
      "source": [
        "What week of the year in 2018 had the most fire calls"
      ],
      "metadata": {
        "id": "SoYrdrNal4EL"
      }
    },
    {
      "cell_type": "code",
      "source": [
        "spark.sql(\"SELECT weekofyear(to_date(`Call Date`, 'MM/dd/yyyy')) weekyear, count(*) as count \\\n",
        "            FROM global_temp.fire_service_calls_view \\\n",
        "            WHERE year(to_date(`Call Date`, 'MM/dd/yyyy')) == 2018 \\\n",
        "            Group by weekyear \\\n",
        "            order by count desc\").show()"
      ],
      "metadata": {
        "colab": {
          "base_uri": "https://localhost:8080/"
        },
        "id": "PWtOZw3piSVk",
        "outputId": "d5d7788d-3af4-4663-b6b9-6f60b5687875"
      },
      "execution_count": null,
      "outputs": [
        {
          "output_type": "stream",
          "name": "stdout",
          "text": [
            "+--------+-----+\n",
            "|weekyear|count|\n",
            "+--------+-----+\n",
            "|       1| 6626|\n",
            "|      25| 6425|\n",
            "|      22| 6328|\n",
            "|      13| 6321|\n",
            "|      27| 6289|\n",
            "|      40| 6252|\n",
            "|      44| 6250|\n",
            "|      16| 6217|\n",
            "|      46| 6209|\n",
            "|      43| 6200|\n",
            "|       5| 6160|\n",
            "|      18| 6152|\n",
            "|      48| 6142|\n",
            "|       2| 6109|\n",
            "|       9| 6079|\n",
            "|      21| 6073|\n",
            "|      45| 6050|\n",
            "|       6| 6025|\n",
            "|       8| 6014|\n",
            "|      23| 5997|\n",
            "+--------+-----+\n",
            "only showing top 20 rows\n",
            "\n"
          ]
        }
      ]
    },
    {
      "cell_type": "markdown",
      "source": [
        "### Rename the columns\n",
        "\n",
        "\n",
        "1.   We can chain the columns\n",
        "\n"
      ],
      "metadata": {
        "id": "wLjDF9Hj37qE"
      }
    },
    {
      "cell_type": "code",
      "source": [
        "renamed_fire_df = df \\\n",
        "        .withColumnRenamed(\"Call Number\", \"CallNumber\") \\\n",
        "        .withColumnRenamed(\"Unit Id\", \"UnitId\")"
      ],
      "metadata": {
        "id": "ARnbh8SFnUvv"
      },
      "execution_count": null,
      "outputs": []
    },
    {
      "cell_type": "code",
      "source": [
        "renamed_fire_df.schema"
      ],
      "metadata": {
        "colab": {
          "base_uri": "https://localhost:8080/"
        },
        "id": "SwqjwHvW3tAs",
        "outputId": "612cb0ae-45bc-4103-e849-59b90d1bf2c8"
      },
      "execution_count": null,
      "outputs": [
        {
          "output_type": "execute_result",
          "data": {
            "text/plain": [
              "StructType([StructField('CallNumber', IntegerType(), True), StructField('UnitId', StringType(), True), StructField('Incident Number', IntegerType(), True), StructField('Call Type', StringType(), True), StructField('Call Date', StringType(), True), StructField('Watch Date', StringType(), True), StructField('Received DtTm', StringType(), True), StructField('Entry DtTm', StringType(), True), StructField('Dispatch DtTm', StringType(), True), StructField('Response DtTm', StringType(), True), StructField('On Scene DtTm', StringType(), True), StructField('Transport DtTm', StringType(), True), StructField('Hospital DtTm', StringType(), True), StructField('Call Final Disposition', StringType(), True), StructField('Available DtTm', StringType(), True), StructField('Address', StringType(), True), StructField('City', StringType(), True), StructField('Zipcode of Incident', IntegerType(), True), StructField('Battalion', StringType(), True), StructField('Station Area', StringType(), True), StructField('Box', StringType(), True), StructField('Original Priority', StringType(), True), StructField('Priority', StringType(), True), StructField('Final Priority', IntegerType(), True), StructField('ALS Unit', BooleanType(), True), StructField('Call Type Group', StringType(), True), StructField('Number of Alarms', IntegerType(), True), StructField('Unit Type', StringType(), True), StructField('Unit sequence in call dispatch', IntegerType(), True), StructField('Fire Prevention District', StringType(), True), StructField('Supervisor District', StringType(), True), StructField('Neighborhooods - Analysis Boundaries', StringType(), True), StructField('Location', StringType(), True), StructField('RowID', StringType(), True)])"
            ]
          },
          "metadata": {},
          "execution_count": 25
        }
      ]
    },
    {
      "cell_type": "markdown",
      "source": [
        "# create a function if column has any space then remove the space"
      ],
      "metadata": {
        "id": "79JnyOlR9SiF"
      }
    },
    {
      "cell_type": "code",
      "source": [
        "renamed_fire_df = renamed_fire_df.toDF(*[col.replace(\" \", \"_\") for col in renamed_fire_df.columns])"
      ],
      "metadata": {
        "id": "k54SePMr3w-n"
      },
      "execution_count": null,
      "outputs": []
    },
    {
      "cell_type": "code",
      "source": [
        "# print the column names\n",
        "renamed_fire_df.columns"
      ],
      "metadata": {
        "colab": {
          "base_uri": "https://localhost:8080/"
        },
        "id": "3P063Ko26C7P",
        "outputId": "855ce6f9-c902-46cc-cf3c-076b594f0a21"
      },
      "execution_count": null,
      "outputs": [
        {
          "output_type": "execute_result",
          "data": {
            "text/plain": [
              "['CallNumber',\n",
              " 'UnitId',\n",
              " 'Incident_Number',\n",
              " 'Call_Type',\n",
              " 'Call_Date',\n",
              " 'Watch_Date',\n",
              " 'Received_DtTm',\n",
              " 'Entry_DtTm',\n",
              " 'Dispatch_DtTm',\n",
              " 'Response_DtTm',\n",
              " 'On_Scene_DtTm',\n",
              " 'Transport_DtTm',\n",
              " 'Hospital_DtTm',\n",
              " 'Call_Final_Disposition',\n",
              " 'Available_DtTm',\n",
              " 'Address',\n",
              " 'City',\n",
              " 'Zipcode_of_Incident',\n",
              " 'Battalion',\n",
              " 'Station_Area',\n",
              " 'Box',\n",
              " 'Original_Priority',\n",
              " 'Priority',\n",
              " 'Final_Priority',\n",
              " 'ALS_Unit',\n",
              " 'Call_Type_Group',\n",
              " 'Number_of_Alarms',\n",
              " 'Unit_Type',\n",
              " 'Unit_sequence_in_call_dispatch',\n",
              " 'Fire_Prevention_District',\n",
              " 'Supervisor_District',\n",
              " 'Neighborhooods_-_Analysis_Boundaries',\n",
              " 'Location',\n",
              " 'RowID']"
            ]
          },
          "metadata": {},
          "execution_count": 27
        }
      ]
    },
    {
      "cell_type": "markdown",
      "source": [
        "### Find the schema"
      ],
      "metadata": {
        "id": "qkbUaP029coZ"
      }
    },
    {
      "cell_type": "code",
      "source": [
        "renamed_fire_df.printSchema()"
      ],
      "metadata": {
        "colab": {
          "base_uri": "https://localhost:8080/"
        },
        "id": "xtBGV1rI6t84",
        "outputId": "eb07f3de-d75b-4b7c-c84d-f8ac94afafd2"
      },
      "execution_count": null,
      "outputs": [
        {
          "output_type": "stream",
          "name": "stdout",
          "text": [
            "root\n",
            " |-- CallNumber: integer (nullable = true)\n",
            " |-- UnitId: string (nullable = true)\n",
            " |-- Incident_Number: integer (nullable = true)\n",
            " |-- Call_Type: string (nullable = true)\n",
            " |-- Call_Date: string (nullable = true)\n",
            " |-- Watch_Date: string (nullable = true)\n",
            " |-- Received_DtTm: string (nullable = true)\n",
            " |-- Entry_DtTm: string (nullable = true)\n",
            " |-- Dispatch_DtTm: string (nullable = true)\n",
            " |-- Response_DtTm: string (nullable = true)\n",
            " |-- On_Scene_DtTm: string (nullable = true)\n",
            " |-- Transport_DtTm: string (nullable = true)\n",
            " |-- Hospital_DtTm: string (nullable = true)\n",
            " |-- Call_Final_Disposition: string (nullable = true)\n",
            " |-- Available_DtTm: string (nullable = true)\n",
            " |-- Address: string (nullable = true)\n",
            " |-- City: string (nullable = true)\n",
            " |-- Zipcode_of_Incident: integer (nullable = true)\n",
            " |-- Battalion: string (nullable = true)\n",
            " |-- Station_Area: string (nullable = true)\n",
            " |-- Box: string (nullable = true)\n",
            " |-- Original_Priority: string (nullable = true)\n",
            " |-- Priority: string (nullable = true)\n",
            " |-- Final_Priority: integer (nullable = true)\n",
            " |-- ALS_Unit: boolean (nullable = true)\n",
            " |-- Call_Type_Group: string (nullable = true)\n",
            " |-- Number_of_Alarms: integer (nullable = true)\n",
            " |-- Unit_Type: string (nullable = true)\n",
            " |-- Unit_sequence_in_call_dispatch: integer (nullable = true)\n",
            " |-- Fire_Prevention_District: string (nullable = true)\n",
            " |-- Supervisor_District: string (nullable = true)\n",
            " |-- Neighborhooods_-_Analysis_Boundaries: string (nullable = true)\n",
            " |-- Location: string (nullable = true)\n",
            " |-- RowID: string (nullable = true)\n",
            "\n"
          ]
        }
      ]
    },
    {
      "cell_type": "markdown",
      "source": [
        "### Change the string to date : Column Call_Date"
      ],
      "metadata": {
        "id": "MHvTV79l-W7i"
      }
    },
    {
      "cell_type": "code",
      "source": [
        "fire_df = renamed_fire_df \\\n",
        "      .withColumn(\"Call_Date\", to_date(\"Call_Date\", \"MM/dd/yyyy\")) \\\n",
        "      .withColumn(\"Watch_Date\", to_date(\"Watch_Date\", \"MM/dd/yyyy\")) \\\n",
        "      .withColumn(\"Available_DtTm\", to_timestamp(\"Available_DtTm\", \"MM/dd/yyyy hh:mm:ss a\"))\n",
        "      # .withColumn(\"Delay\", round(\"Delay\", 2))"
      ],
      "metadata": {
        "id": "7RNWW0YW9XiB"
      },
      "execution_count": null,
      "outputs": []
    },
    {
      "cell_type": "code",
      "source": [
        "fire_df.printSchema()"
      ],
      "metadata": {
        "colab": {
          "base_uri": "https://localhost:8080/"
        },
        "id": "5ddwspew-rx-",
        "outputId": "bddcc600-6de8-4aec-cca5-3b2846aa5970"
      },
      "execution_count": null,
      "outputs": [
        {
          "output_type": "stream",
          "name": "stdout",
          "text": [
            "root\n",
            " |-- CallNumber: integer (nullable = true)\n",
            " |-- UnitId: string (nullable = true)\n",
            " |-- Incident_Number: integer (nullable = true)\n",
            " |-- Call_Type: string (nullable = true)\n",
            " |-- Call_Date: date (nullable = true)\n",
            " |-- Watch_Date: date (nullable = true)\n",
            " |-- Received_DtTm: string (nullable = true)\n",
            " |-- Entry_DtTm: string (nullable = true)\n",
            " |-- Dispatch_DtTm: string (nullable = true)\n",
            " |-- Response_DtTm: string (nullable = true)\n",
            " |-- On_Scene_DtTm: string (nullable = true)\n",
            " |-- Transport_DtTm: string (nullable = true)\n",
            " |-- Hospital_DtTm: string (nullable = true)\n",
            " |-- Call_Final_Disposition: string (nullable = true)\n",
            " |-- Available_DtTm: timestamp (nullable = true)\n",
            " |-- Address: string (nullable = true)\n",
            " |-- City: string (nullable = true)\n",
            " |-- Zipcode_of_Incident: integer (nullable = true)\n",
            " |-- Battalion: string (nullable = true)\n",
            " |-- Station_Area: string (nullable = true)\n",
            " |-- Box: string (nullable = true)\n",
            " |-- Original_Priority: string (nullable = true)\n",
            " |-- Priority: string (nullable = true)\n",
            " |-- Final_Priority: integer (nullable = true)\n",
            " |-- ALS_Unit: boolean (nullable = true)\n",
            " |-- Call_Type_Group: string (nullable = true)\n",
            " |-- Number_of_Alarms: integer (nullable = true)\n",
            " |-- Unit_Type: string (nullable = true)\n",
            " |-- Unit_sequence_in_call_dispatch: integer (nullable = true)\n",
            " |-- Fire_Prevention_District: string (nullable = true)\n",
            " |-- Supervisor_District: string (nullable = true)\n",
            " |-- Neighborhooods_-_Analysis_Boundaries: string (nullable = true)\n",
            " |-- Location: string (nullable = true)\n",
            " |-- RowID: string (nullable = true)\n",
            "\n"
          ]
        }
      ]
    },
    {
      "cell_type": "code",
      "source": [
        "new_df = spark.sql(\"\"\"select count(distinct `Call Type`) as distinct_call_type_count\n",
        "        from global_temp.fire_service_calls_view where `Call Type` is not null\n",
        "\"\"\")"
      ],
      "metadata": {
        "id": "8y25U4Mt-6So"
      },
      "execution_count": null,
      "outputs": []
    },
    {
      "cell_type": "code",
      "source": [
        "new_df.show()"
      ],
      "metadata": {
        "colab": {
          "base_uri": "https://localhost:8080/"
        },
        "id": "Aew-m5U59y2o",
        "outputId": "16e2a666-f025-42dd-b930-afe269bb6c77"
      },
      "execution_count": null,
      "outputs": [
        {
          "output_type": "stream",
          "name": "stdout",
          "text": [
            "+------------------------+\n",
            "|distinct_call_type_count|\n",
            "+------------------------+\n",
            "|                      32|\n",
            "+------------------------+\n",
            "\n"
          ]
        }
      ]
    },
    {
      "cell_type": "markdown",
      "source": [
        "### Chain of transformation"
      ],
      "metadata": {
        "id": "GOZHptkE_lI4"
      }
    },
    {
      "cell_type": "code",
      "source": [
        "q1_df = fire_df.where(\"`Call_Type` is not null\")  \\\n",
        "                  .select(\"`Call_Type`\")  \\\n",
        "                  .distinct()\n",
        "print(q1_df.count())"
      ],
      "metadata": {
        "colab": {
          "base_uri": "https://localhost:8080/"
        },
        "id": "z8vlkKIs-kVR",
        "outputId": "6813fc86-2c0b-44a9-ac38-805ee2df25c3"
      },
      "execution_count": null,
      "outputs": [
        {
          "output_type": "stream",
          "name": "stdout",
          "text": [
            "32\n"
          ]
        }
      ]
    },
    {
      "cell_type": "markdown",
      "source": [
        "What were distict types of calls made to the Fire Department?\n",
        "\n",
        "select distinct CallType as distinct_call_types\n",
        "from service_calls_table wher CallType is not null\n",
        "\n",
        "Action: show()"
      ],
      "metadata": {
        "id": "J-USuB9SEk9I"
      }
    },
    {
      "cell_type": "code",
      "source": [
        "q2_df = fire_df.where(\"Call_Type is not null\") \\\n",
        "               .select(expr(\"Call_Type as distinct_call_type\")) \\\n",
        "               .distinct()\n",
        "\n",
        "q2_df.show()"
      ],
      "metadata": {
        "id": "Kr0sIMfjACxf",
        "colab": {
          "base_uri": "https://localhost:8080/"
        },
        "outputId": "70563b79-491b-4cb1-9371-7ae8efd93e16"
      },
      "execution_count": null,
      "outputs": [
        {
          "output_type": "stream",
          "name": "stdout",
          "text": [
            "+--------------------+\n",
            "|  distinct_call_type|\n",
            "+--------------------+\n",
            "|Elevator / Escala...|\n",
            "|  Aircraft Emergency|\n",
            "|Confined Space / ...|\n",
            "|      Administrative|\n",
            "|              Alarms|\n",
            "|Odor (Strange / U...|\n",
            "|Citizen Assist / ...|\n",
            "|              HazMat|\n",
            "|           Oil Spill|\n",
            "|        Vehicle Fire|\n",
            "|  Suspicious Package|\n",
            "|               Other|\n",
            "|        Outside Fire|\n",
            "|       Assist Police|\n",
            "|Gas Leak (Natural...|\n",
            "|        Water Rescue|\n",
            "|   Electrical Hazard|\n",
            "|      Structure Fire|\n",
            "|Industrial Accidents|\n",
            "|    Medical Incident|\n",
            "+--------------------+\n",
            "only showing top 20 rows\n",
            "\n"
          ]
        }
      ]
    },
    {
      "cell_type": "markdown",
      "source": [
        "Q#. Find out all response for delayed times greater than 5 minutes\n",
        "\n",
        "Select CallNumber, Delay\n",
        "  from table\n",
        "  where Delay > 5"
      ],
      "metadata": {
        "id": "-nriF-w6JCE2"
      }
    },
    {
      "cell_type": "code",
      "source": [
        "fire_df.head()"
      ],
      "metadata": {
        "colab": {
          "base_uri": "https://localhost:8080/"
        },
        "id": "uOFIq_XfIxCA",
        "outputId": "8f678d65-7d23-4bd9-fd81-7e5979caabcf"
      },
      "execution_count": null,
      "outputs": [
        {
          "output_type": "execute_result",
          "data": {
            "text/plain": [
              "Row(CallNumber=1030101, UnitId='E18', Incident_Number=306091, Call_Type='Medical Incident', Call_Date=datetime.date(2000, 4, 12), Watch_Date=datetime.date(2000, 4, 12), Received_DtTm='04/12/2000 09:00:29 PM', Entry_DtTm='04/12/2000 09:01:40 PM', Dispatch_DtTm='04/12/2000 09:02:00 PM', Response_DtTm=None, On_Scene_DtTm=None, Transport_DtTm=None, Hospital_DtTm=None, Call_Final_Disposition='Other', Available_DtTm=None, Address='2000 Block of 37TH AVE', City='SF', Zipcode_of_Incident=94116, Battalion='B08', Station_Area='18', Box='0757', Original_Priority='3', Priority='3', Final_Priority=3, ALS_Unit=False, Call_Type_Group=None, Number_of_Alarms=1, Unit_Type='ENGINE', Unit_sequence_in_call_dispatch=1, Fire_Prevention_District='8', Supervisor_District='4', Neighborhooods_-_Analysis_Boundaries='Sunset/Parkside', Location='(37.7487247711275, -122.495504020186)', RowID='001030101-E18')"
            ]
          },
          "metadata": {},
          "execution_count": 38
        }
      ]
    },
    {
      "cell_type": "code",
      "source": [
        "# Delay not in my df so am just writing for reference only\n",
        "# q3_df = fire_df.where(\"Delay > 5\") \\\n",
        "#        .select(\"CallNumber, Delay\")\n",
        "\n",
        "# q3_df.show()"
      ],
      "metadata": {
        "id": "AmVY5S9mJtNv"
      },
      "execution_count": null,
      "outputs": []
    },
    {
      "cell_type": "markdown",
      "source": [
        "Q4: What were the most common call types:\n",
        "\n",
        "Select CallType, count(*) as count\n",
        "  from table\n",
        "    where\n",
        "  CallType is not null\n",
        "  Group by CallType\n",
        "  Order by count desc"
      ],
      "metadata": {
        "id": "kCnDsKIxLZe0"
      }
    },
    {
      "cell_type": "code",
      "source": [
        "# Call_Type\n",
        "q4_df = fire_df.where(\"Call_Type is not null\")  \\\n",
        "               .select(\"Call_Type\")  \\\n",
        "               .groupBy(\"Call_Type\")  \\\n",
        "               .count()  \\\n",
        "               .orderBy(desc(\"count\"))\n",
        "\n",
        "q4_df.show()"
      ],
      "metadata": {
        "colab": {
          "base_uri": "https://localhost:8080/"
        },
        "id": "74xSwjMwLDQb",
        "outputId": "d330cb26-5793-47f1-cd7b-9043dc88fc5c"
      },
      "execution_count": null,
      "outputs": [
        {
          "output_type": "stream",
          "name": "stdout",
          "text": [
            "+--------------------+-------+\n",
            "|           Call_Type|  count|\n",
            "+--------------------+-------+\n",
            "|    Medical Incident|3135026|\n",
            "|      Structure Fire| 628420|\n",
            "|              Alarms| 517243|\n",
            "|   Traffic Collision| 197956|\n",
            "|               Other|  77082|\n",
            "|Citizen Assist / ...|  72529|\n",
            "|        Outside Fire|  57213|\n",
            "|        Vehicle Fire|  23178|\n",
            "|        Water Rescue|  22991|\n",
            "|Gas Leak (Natural...|  18393|\n",
            "|   Electrical Hazard|  13580|\n",
            "|Elevator / Escala...|  12728|\n",
            "|Odor (Strange / U...|  12474|\n",
            "|Smoke Investigati...|  10734|\n",
            "|          Fuel Spill|   5593|\n",
            "|              HazMat|   3931|\n",
            "|Industrial Accidents|   2836|\n",
            "|           Explosion|   2587|\n",
            "|  Aircraft Emergency|   1511|\n",
            "|       Assist Police|   1334|\n",
            "+--------------------+-------+\n",
            "only showing top 20 rows\n",
            "\n"
          ]
        }
      ]
    },
    {
      "cell_type": "code",
      "source": [],
      "metadata": {
        "id": "O5kogZquL2r0"
      },
      "execution_count": null,
      "outputs": []
    }
  ]
}